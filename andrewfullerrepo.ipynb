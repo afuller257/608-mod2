{
 "cells": [
  {
   "cell_type": "code",
   "execution_count": 5,
   "id": "da4f8bf2-e412-42d6-b7d7-cdddcf5c76c4",
   "metadata": {},
   "outputs": [],
   "source": [
    "grade = 85"
   ]
  },
  {
   "cell_type": "code",
   "execution_count": 6,
   "id": "0acd7c74-8ab6-4701-95aa-3ba137229d2d",
   "metadata": {},
   "outputs": [
    {
     "name": "stdout",
     "output_type": "stream",
     "text": [
      "Passed\n"
     ]
    }
   ],
   "source": [
    "if grade >= 60:\n",
    "    ...:  print('Passed')\n",
    "    ...: else:\n",
    "    ...:  print('Failed')\n",
    "    ...:"
   ]
  },
  {
   "cell_type": "code",
   "execution_count": 7,
   "id": "aa6de110-e410-421c-8102-5830b3b07ec5",
   "metadata": {},
   "outputs": [],
   "source": [
    "grade = 57"
   ]
  },
  {
   "cell_type": "code",
   "execution_count": 8,
   "id": "d1c5ded8-ed36-4bbb-9e1e-58b0a8333c58",
   "metadata": {},
   "outputs": [
    {
     "name": "stdout",
     "output_type": "stream",
     "text": [
      "Failed\n"
     ]
    }
   ],
   "source": [
    "if grade >= 60:\n",
    "    ...:  print('Passed')\n",
    "    ...: else:\n",
    "    ...:  print('Failed')\n",
    "    ...:"
   ]
  },
  {
   "cell_type": "code",
   "execution_count": 9,
   "id": "c63dc395-0acc-4274-9a22-c901210f31b0",
   "metadata": {},
   "outputs": [],
   "source": [
    "grade = 99"
   ]
  },
  {
   "cell_type": "code",
   "execution_count": 10,
   "id": "9bcf9fff-a132-4894-a1b3-5accb4d19e26",
   "metadata": {},
   "outputs": [
    {
     "name": "stdout",
     "output_type": "stream",
     "text": [
      "Passed\n"
     ]
    }
   ],
   "source": [
    "if grade >= 60:\n",
    "    ...:  print('Passed')\n",
    "    ...: else:\n",
    "    ...:  print('Failed')\n",
    "    ...:"
   ]
  },
  {
   "cell_type": "code",
   "execution_count": 11,
   "id": "dc4c2704-a776-4248-85b2-c87bdb7cc204",
   "metadata": {},
   "outputs": [],
   "source": [
    "grade = 87"
   ]
  },
  {
   "cell_type": "code",
   "execution_count": 12,
   "id": "9a1841ba-6128-46ce-8110-cfd813c9f0dc",
   "metadata": {},
   "outputs": [],
   "source": [
    "if grade >= 60:\n",
    "    ...:  result = 'Passed'\n",
    "    ...: else:\n",
    "    ...:  result = 'Failed'\n",
    "    ...:"
   ]
  },
  {
   "cell_type": "code",
   "execution_count": 13,
   "id": "566b7de4-8829-4cbc-a3c4-b8f3ac9f0d1b",
   "metadata": {},
   "outputs": [
    {
     "data": {
      "text/plain": [
       "'Passed'"
      ]
     },
     "execution_count": 13,
     "metadata": {},
     "output_type": "execute_result"
    }
   ],
   "source": [
    "result"
   ]
  },
  {
   "cell_type": "code",
   "execution_count": 14,
   "id": "bae47d14-2495-4e37-80c0-da7d3df013a0",
   "metadata": {},
   "outputs": [],
   "source": [
    "result = ('Passed' if grade >= 60 else 'Failed')"
   ]
  },
  {
   "cell_type": "code",
   "execution_count": 15,
   "id": "912c5cdd-7446-4207-9b20-63d72c52c3a7",
   "metadata": {},
   "outputs": [
    {
     "data": {
      "text/plain": [
       "'Passed'"
      ]
     },
     "execution_count": 15,
     "metadata": {},
     "output_type": "execute_result"
    }
   ],
   "source": [
    "result"
   ]
  },
  {
   "cell_type": "code",
   "execution_count": 16,
   "id": "a862d698-3113-47d5-875b-90f319e28247",
   "metadata": {},
   "outputs": [
    {
     "data": {
      "text/plain": [
       "'Passed'"
      ]
     },
     "execution_count": 16,
     "metadata": {},
     "output_type": "execute_result"
    }
   ],
   "source": [
    "'Passed' if grade >= 60 else 'Failed'"
   ]
  },
  {
   "cell_type": "code",
   "execution_count": 17,
   "id": "ad982569-4191-490c-a1a3-71f59a049bbd",
   "metadata": {},
   "outputs": [],
   "source": [
    "grade = 49"
   ]
  },
  {
   "cell_type": "code",
   "execution_count": 18,
   "id": "fd9c34f2-c218-46a8-8df1-5fcd765cd843",
   "metadata": {},
   "outputs": [
    {
     "name": "stdout",
     "output_type": "stream",
     "text": [
      "Failed\n",
      "You must take this course again\n"
     ]
    }
   ],
   "source": [
    "if grade >= 60:\n",
    "    ...:  print('Passed')\n",
    "    ...: else:\n",
    "    ...:  print('Failed')\n",
    "    ...:  print('You must take this course again')\n",
    "    ...:"
   ]
  },
  {
   "cell_type": "code",
   "execution_count": 19,
   "id": "b4b9ad74-5087-4ae6-9f5b-be836be08500",
   "metadata": {},
   "outputs": [],
   "source": [
    "grade = 100"
   ]
  },
  {
   "cell_type": "code",
   "execution_count": 20,
   "id": "77d84615-8056-43ed-80ca-560b1514fee7",
   "metadata": {},
   "outputs": [
    {
     "name": "stdout",
     "output_type": "stream",
     "text": [
      "Passed\n"
     ]
    }
   ],
   "source": [
    "if grade >= 60:\n",
    "    ...:  print('Passed')\n",
    "    ...: else:\n",
    "    ...:  print('Failed')\n",
    "    ...:  print('You must take this course again')\n",
    "    ...:"
   ]
  },
  {
   "cell_type": "code",
   "execution_count": 21,
   "id": "24d012d7-aa72-4ac7-8c44-08620eee5c8a",
   "metadata": {},
   "outputs": [],
   "source": [
    "grade = 77"
   ]
  },
  {
   "cell_type": "code",
   "execution_count": 22,
   "id": "59472973-183b-416b-8226-2d25d05666ae",
   "metadata": {},
   "outputs": [
    {
     "name": "stdout",
     "output_type": "stream",
     "text": [
      "C\n"
     ]
    }
   ],
   "source": [
    "if grade >= 90:\n",
    "    ...:  print('A')\n",
    "    ...: elif grade >= 80:\n",
    "    ...:  print('B')\n",
    "    ...: elif grade >= 70:\n",
    "    ...:  print('C')\n",
    "    ...: elif grade >= 60:\n",
    "    ...:  print('D')\n",
    "    ...: else:\n",
    "    ...:  print('F')\n",
    "    ...:"
   ]
  },
  {
   "cell_type": "code",
   "execution_count": 23,
   "id": "557c4c31-e11b-4eda-9304-e43f27f5d158",
   "metadata": {},
   "outputs": [],
   "source": [
    "product = 3"
   ]
  },
  {
   "cell_type": "code",
   "execution_count": 24,
   "id": "38965b98-8cf8-48aa-88e2-d883c71ded59",
   "metadata": {},
   "outputs": [],
   "source": [
    "while product <= 50:\n",
    "    ...:  product = product * 3\n",
    "    ...:"
   ]
  },
  {
   "cell_type": "code",
   "execution_count": 25,
   "id": "c977f357-0d6d-49c9-a9fa-6adb0bcfb7ab",
   "metadata": {},
   "outputs": [
    {
     "data": {
      "text/plain": [
       "81"
      ]
     },
     "execution_count": 25,
     "metadata": {},
     "output_type": "execute_result"
    }
   ],
   "source": [
    "product"
   ]
  },
  {
   "cell_type": "code",
   "execution_count": 26,
   "id": "f67b52a0-61e9-4bf0-ad57-b180ace286bc",
   "metadata": {},
   "outputs": [
    {
     "name": "stdout",
     "output_type": "stream",
     "text": [
      "P r o g r a m m i n g "
     ]
    }
   ],
   "source": [
    "for character in 'Programming' :\n",
    "    ...:  print(character, end=' ')\n",
    "    ...:"
   ]
  },
  {
   "cell_type": "code",
   "execution_count": 27,
   "id": "f4c41c58-0b74-45fc-96d8-0ee01f5fcd31",
   "metadata": {},
   "outputs": [
    {
     "name": "stdout",
     "output_type": "stream",
     "text": [
      "10, 20, 30\n"
     ]
    }
   ],
   "source": [
    "print(10, 20, 30, sep=', ')"
   ]
  },
  {
   "cell_type": "code",
   "execution_count": 28,
   "id": "c0261d39-df04-4588-a831-5dcd8d035af0",
   "metadata": {},
   "outputs": [],
   "source": [
    "total = 0"
   ]
  },
  {
   "cell_type": "code",
   "execution_count": 29,
   "id": "27fa15c4-0d74-420e-b982-679d208ed494",
   "metadata": {},
   "outputs": [],
   "source": [
    "for number in [2, -3, 0, 17, 9] :\n",
    "    ...:  total = total + number\n",
    "    ...:"
   ]
  },
  {
   "cell_type": "code",
   "execution_count": 30,
   "id": "36453639-fd2a-4f9c-896c-5470ea4843b9",
   "metadata": {},
   "outputs": [
    {
     "name": "stdout",
     "output_type": "stream",
     "text": [
      "0 1 2 3 4 5 6 7 8 9 "
     ]
    }
   ],
   "source": [
    "for counter in range(10) :\n",
    "    ...:  print(counter, end=' ')\n",
    "    ...:"
   ]
  },
  {
   "cell_type": "code",
   "execution_count": 31,
   "id": "1bae09f9-6a92-4282-b31a-e7d9554a81ae",
   "metadata": {},
   "outputs": [],
   "source": [
    "x = 12"
   ]
  },
  {
   "cell_type": "code",
   "execution_count": 32,
   "id": "80ef8eed-e216-497d-9f08-a3a7626829bc",
   "metadata": {},
   "outputs": [],
   "source": [
    "x **= 2"
   ]
  },
  {
   "cell_type": "code",
   "execution_count": 33,
   "id": "d2d142b8-1d95-415d-bbbb-aab3b7917353",
   "metadata": {},
   "outputs": [
    {
     "data": {
      "text/plain": [
       "144"
      ]
     },
     "execution_count": 33,
     "metadata": {},
     "output_type": "execute_result"
    }
   ],
   "source": [
    "x"
   ]
  },
  {
   "cell_type": "code",
   "execution_count": 34,
   "id": "7ec65c78-ec79-4937-84c3-159604b51282",
   "metadata": {},
   "outputs": [],
   "source": [
    "# fig03_01.py"
   ]
  },
  {
   "cell_type": "code",
   "execution_count": 35,
   "id": "a24fd07f-b313-4b9c-a776-2a9b8e75654b",
   "metadata": {},
   "outputs": [
    {
     "data": {
      "text/plain": [
       "'Class average program with sequence-controlled repetition.'"
      ]
     },
     "execution_count": 35,
     "metadata": {},
     "output_type": "execute_result"
    }
   ],
   "source": [
    "\"\"\"Class average program with sequence-controlled repetition.\"\"\""
   ]
  },
  {
   "cell_type": "code",
   "execution_count": null,
   "id": "fc476f29-8e7b-4951-8a0c-e7c675f2605d",
   "metadata": {
    "jupyter": {
     "source_hidden": true
    },
    "tags": []
   },
   "outputs": [],
   "source": []
  },
  {
   "cell_type": "code",
   "execution_count": 36,
   "id": "649191b2-7f6a-4a1b-8a81-123297774958",
   "metadata": {},
   "outputs": [],
   "source": [
    "# initialization phase"
   ]
  },
  {
   "cell_type": "code",
   "execution_count": 37,
   "id": "54de6c79-d3ee-426b-9369-7e0b5bc60113",
   "metadata": {},
   "outputs": [],
   "source": [
    "total = 0 # sum of grades"
   ]
  },
  {
   "cell_type": "code",
   "execution_count": 38,
   "id": "8ad4724b-3f8e-488f-94dd-52b0c6c0923a",
   "metadata": {},
   "outputs": [],
   "source": [
    "grade_counter = 0"
   ]
  },
  {
   "cell_type": "code",
   "execution_count": 39,
   "id": "af96caf7-0f25-4cd3-befa-1bb22df659ba",
   "metadata": {},
   "outputs": [],
   "source": [
    "grades = [98, 76, 71, 87, 83, 90, 57, 79, 82, 94] # list of 10 grades"
   ]
  },
  {
   "cell_type": "code",
   "execution_count": null,
   "id": "dea702e9-0f6a-4aa8-9e38-8c3fd9158d17",
   "metadata": {},
   "outputs": [],
   "source": []
  },
  {
   "cell_type": "code",
   "execution_count": 40,
   "id": "09b197bb-ad7e-4fef-8b0c-806679916c3e",
   "metadata": {},
   "outputs": [],
   "source": [
    "# processing phase"
   ]
  },
  {
   "cell_type": "code",
   "execution_count": 41,
   "id": "b8882cf0-af80-470c-905d-dd36aaaa9a9e",
   "metadata": {},
   "outputs": [],
   "source": [
    "for grade in grades:\n",
    "    total += grade #add current grade to the running total\n",
    "    grade_counter += 1 # indicate that one more grade was processed"
   ]
  },
  {
   "cell_type": "code",
   "execution_count": 42,
   "id": "2d48a97e-c059-4dcc-89d0-1ee1b6cb02ca",
   "metadata": {},
   "outputs": [],
   "source": [
    "# termination phase"
   ]
  },
  {
   "cell_type": "code",
   "execution_count": 43,
   "id": "f093978b-c840-4897-9f2f-4161937001ac",
   "metadata": {},
   "outputs": [],
   "source": [
    "average = total / grade_counter"
   ]
  },
  {
   "cell_type": "code",
   "execution_count": 44,
   "id": "ba70cec7-35bc-4e39-8dd6-39e29be00cb4",
   "metadata": {},
   "outputs": [
    {
     "name": "stdout",
     "output_type": "stream",
     "text": [
      "Class average is 81.7\n"
     ]
    }
   ],
   "source": [
    "print(f'Class average is {average}')"
   ]
  },
  {
   "cell_type": "code",
   "execution_count": 45,
   "id": "353c9c0b-789a-42bb-90ed-2e4a0b5f0d76",
   "metadata": {},
   "outputs": [
    {
     "name": "stdout",
     "output_type": "stream",
     "text": [
      "5 6 7 8 9 "
     ]
    }
   ],
   "source": [
    "for number in range(5, 10) :\n",
    "    ...:  print(number, end=' ')\n",
    "    ...:"
   ]
  },
  {
   "cell_type": "code",
   "execution_count": 47,
   "id": "e3d4a2d2-420f-4883-9f24-d24a86174eca",
   "metadata": {},
   "outputs": [
    {
     "name": "stdout",
     "output_type": "stream",
     "text": [
      "0 2 4 6 8 "
     ]
    }
   ],
   "source": [
    "for number in range(0, 10, 2) :\n",
    "    ...:  print(number, end=' ')\n",
    "    ...:"
   ]
  },
  {
   "cell_type": "code",
   "execution_count": 48,
   "id": "408f33dd-b93c-49e0-9ce5-1e47435a0540",
   "metadata": {},
   "outputs": [
    {
     "name": "stdout",
     "output_type": "stream",
     "text": [
      "10 8 6 4 2 "
     ]
    }
   ],
   "source": [
    "for number in range(10, 0, -2) :\n",
    "    ...:  print(number, end=' ')\n",
    "    ...:"
   ]
  },
  {
   "cell_type": "code",
   "execution_count": 55,
   "id": "d43b8bc8-053b-4b7e-8789-b8fceba05ef5",
   "metadata": {},
   "outputs": [
    {
     "name": "stdout",
     "output_type": "stream",
     "text": [
      "0 1 2 3 4 5 6 7 8 9 "
     ]
    }
   ],
   "source": [
    "for number in range(100) :\n",
    "    ...:  if number == 10:\n",
    "    ...:    break\n",
    "    ...:  print(number, end=' ')\n",
    "    ...:"
   ]
  },
  {
   "cell_type": "code",
   "execution_count": 56,
   "id": "237df865-c5ad-4f29-aa4a-fb3127d2cdad",
   "metadata": {},
   "outputs": [
    {
     "name": "stdout",
     "output_type": "stream",
     "text": [
      "0 1 2 3 4 6 7 8 9 "
     ]
    }
   ],
   "source": [
    "for number in range(10) :\n",
    "    ...:  if number == 5:\n",
    "    ...:    continue\n",
    "    ...:  print(number, end=' ')\n",
    "    ...:"
   ]
  },
  {
   "cell_type": "code",
   "execution_count": 57,
   "id": "4756bdf5-8837-440c-80b8-8256b4ff9147",
   "metadata": {},
   "outputs": [],
   "source": [
    "gender = 'Female'"
   ]
  },
  {
   "cell_type": "code",
   "execution_count": 58,
   "id": "15d0ebc1-f14b-441b-ba0e-d024ae7dee4e",
   "metadata": {},
   "outputs": [],
   "source": [
    "age = 70"
   ]
  },
  {
   "cell_type": "code",
   "execution_count": 59,
   "id": "692473ae-b0d7-45bc-9e9e-4c91b9a69fe3",
   "metadata": {},
   "outputs": [
    {
     "name": "stdout",
     "output_type": "stream",
     "text": [
      "Senior female\n"
     ]
    }
   ],
   "source": [
    "if gender == 'Female' and age >= 65:\n",
    "    ...:  print('Senior female')\n",
    "    ...:"
   ]
  },
  {
   "cell_type": "code",
   "execution_count": 60,
   "id": "879913ff-c98f-4a3f-8d26-39950e4a7745",
   "metadata": {},
   "outputs": [],
   "source": [
    "semester_average = 83"
   ]
  },
  {
   "cell_type": "code",
   "execution_count": 61,
   "id": "34b5f7ae-36c1-44e6-b92c-466b416a6695",
   "metadata": {},
   "outputs": [],
   "source": [
    "final_exam = 95"
   ]
  },
  {
   "cell_type": "code",
   "execution_count": 62,
   "id": "4762e8fe-cf7f-44d5-8c62-c3fa1bd6e09d",
   "metadata": {},
   "outputs": [
    {
     "name": "stdout",
     "output_type": "stream",
     "text": [
      "Student gets an A\n"
     ]
    }
   ],
   "source": [
    "if semester_average >= 90 or final_exam >= 90:\n",
    "    ...:  print('Student gets an A')\n",
    "    ...:"
   ]
  },
  {
   "cell_type": "code",
   "execution_count": 63,
   "id": "5faa0466-1f82-4eb3-b455-dc56789ad25e",
   "metadata": {},
   "outputs": [],
   "source": [
    "grade = 87"
   ]
  },
  {
   "cell_type": "code",
   "execution_count": 64,
   "id": "fc2afc3c-98dd-4598-baef-10d4af727c13",
   "metadata": {},
   "outputs": [
    {
     "name": "stdout",
     "output_type": "stream",
     "text": [
      "The next grade is 87\n"
     ]
    }
   ],
   "source": [
    "if not grade == -1:\n",
    "    ...:  print('The next grade is', grade)\n",
    "    ...:"
   ]
  },
  {
   "cell_type": "code",
   "execution_count": 65,
   "id": "ff4e3269-919d-44be-bcdd-cf37642e20f9",
   "metadata": {},
   "outputs": [],
   "source": [
    "i = 1"
   ]
  },
  {
   "cell_type": "code",
   "execution_count": 66,
   "id": "98175ddd-e776-4df2-a3ef-3b73b186c7e8",
   "metadata": {},
   "outputs": [],
   "source": [
    "j = 2"
   ]
  },
  {
   "cell_type": "code",
   "execution_count": 67,
   "id": "d6eae02a-6286-4d4d-bace-10aa165e2907",
   "metadata": {},
   "outputs": [],
   "source": [
    "k = 3"
   ]
  },
  {
   "cell_type": "code",
   "execution_count": 68,
   "id": "099f2023-a169-4dd7-957a-fea18aa70613",
   "metadata": {},
   "outputs": [],
   "source": [
    "m = 2"
   ]
  },
  {
   "cell_type": "code",
   "execution_count": 69,
   "id": "6760cf4f-6239-4aff-95aa-7eb702159cdb",
   "metadata": {},
   "outputs": [
    {
     "data": {
      "text/plain": [
       "True"
      ]
     },
     "execution_count": 69,
     "metadata": {},
     "output_type": "execute_result"
    }
   ],
   "source": [
    "(i >= 1) and (j < 4)"
   ]
  },
  {
   "cell_type": "code",
   "execution_count": 70,
   "id": "36e167ea-191b-435f-98ec-31672cfc7007",
   "metadata": {},
   "outputs": [
    {
     "data": {
      "text/plain": [
       "False"
      ]
     },
     "execution_count": 70,
     "metadata": {},
     "output_type": "execute_result"
    }
   ],
   "source": [
    "(m <= 99) and (k < m)"
   ]
  },
  {
   "cell_type": "code",
   "execution_count": 71,
   "id": "06bd9bab-3d53-4745-91c9-04501dc8ed24",
   "metadata": {},
   "outputs": [
    {
     "data": {
      "text/plain": [
       "True"
      ]
     },
     "execution_count": 71,
     "metadata": {},
     "output_type": "execute_result"
    }
   ],
   "source": [
    "(j >= i) or (k == m)"
   ]
  },
  {
   "cell_type": "code",
   "execution_count": 72,
   "id": "c767f222-c29f-46e6-a30b-f021fed9abfe",
   "metadata": {},
   "outputs": [
    {
     "data": {
      "text/plain": [
       "False"
      ]
     },
     "execution_count": 72,
     "metadata": {},
     "output_type": "execute_result"
    }
   ],
   "source": [
    "(k + m < j) or (3 - j >= k)"
   ]
  },
  {
   "cell_type": "code",
   "execution_count": 73,
   "id": "107fe320-c3d7-4caa-a9f8-f1afff64fac1",
   "metadata": {},
   "outputs": [
    {
     "data": {
      "text/plain": [
       "False"
      ]
     },
     "execution_count": 73,
     "metadata": {},
     "output_type": "execute_result"
    }
   ],
   "source": [
    "not (k > m)"
   ]
  },
  {
   "cell_type": "code",
   "execution_count": 74,
   "id": "864f5ded-3b0b-4961-8ac8-953c8e776629",
   "metadata": {},
   "outputs": [],
   "source": [
    "mylist = [47, 95, 88, 73, 88, 84]"
   ]
  },
  {
   "cell_type": "code",
   "execution_count": 75,
   "id": "560ad669-47cc-4923-ae54-8498c3b7efdd",
   "metadata": {},
   "outputs": [],
   "source": [
    "x = len(mylist)"
   ]
  },
  {
   "cell_type": "code",
   "execution_count": 76,
   "id": "ae107736-d856-4045-86b6-bdab1a9e2551",
   "metadata": {},
   "outputs": [
    {
     "name": "stdout",
     "output_type": "stream",
     "text": [
      "6\n"
     ]
    }
   ],
   "source": [
    "print(x)"
   ]
  },
  {
   "cell_type": "code",
   "execution_count": 77,
   "id": "808bedad-197e-43dc-9f28-1618254fabdf",
   "metadata": {},
   "outputs": [],
   "source": [
    "a = (47, 95, 88, 73, 88, 84)"
   ]
  },
  {
   "cell_type": "code",
   "execution_count": 78,
   "id": "ae6bcebe-d81f-48c5-995e-b2f66f07925a",
   "metadata": {},
   "outputs": [],
   "source": [
    "y = sum(a)"
   ]
  },
  {
   "cell_type": "code",
   "execution_count": 79,
   "id": "d34b29cf-d184-447f-a1f5-108c682bd883",
   "metadata": {},
   "outputs": [
    {
     "name": "stdout",
     "output_type": "stream",
     "text": [
      "475\n"
     ]
    }
   ],
   "source": [
    "print(y)"
   ]
  },
  {
   "cell_type": "code",
   "execution_count": 80,
   "id": "1f81fe84-c431-4ea1-b779-2f12ef28289b",
   "metadata": {},
   "outputs": [],
   "source": [
    "z = y / x"
   ]
  },
  {
   "cell_type": "code",
   "execution_count": 81,
   "id": "4a186850-9f39-49f7-a428-433f864ff978",
   "metadata": {},
   "outputs": [
    {
     "name": "stdout",
     "output_type": "stream",
     "text": [
      "79.16666666666667\n"
     ]
    }
   ],
   "source": [
    "print(z)"
   ]
  },
  {
   "cell_type": "code",
   "execution_count": 82,
   "id": "747d5f98-48f9-4bed-bdaf-c8beb969cc56",
   "metadata": {},
   "outputs": [],
   "source": [
    "import statistics"
   ]
  },
  {
   "cell_type": "code",
   "execution_count": 83,
   "id": "25ce7d43-b4b2-4774-bffe-dd067a1c311d",
   "metadata": {},
   "outputs": [],
   "source": [
    "values = [47, 95, 88, 73, 88, 84]"
   ]
  },
  {
   "cell_type": "code",
   "execution_count": 84,
   "id": "1f21d430-204a-4e13-9623-bd5bdbeedf3d",
   "metadata": {},
   "outputs": [
    {
     "data": {
      "text/plain": [
       "79.16666666666667"
      ]
     },
     "execution_count": 84,
     "metadata": {},
     "output_type": "execute_result"
    }
   ],
   "source": [
    "statistics.mean(values)"
   ]
  },
  {
   "cell_type": "code",
   "execution_count": 85,
   "id": "38b46dbe-08b2-4a00-a5d1-790d175bd433",
   "metadata": {},
   "outputs": [
    {
     "data": {
      "text/plain": [
       "86.0"
      ]
     },
     "execution_count": 85,
     "metadata": {},
     "output_type": "execute_result"
    }
   ],
   "source": [
    "statistics.median(values)"
   ]
  },
  {
   "cell_type": "code",
   "execution_count": 86,
   "id": "378c532a-9dbd-48fa-b59d-aa8511d6905b",
   "metadata": {},
   "outputs": [
    {
     "data": {
      "text/plain": [
       "88"
      ]
     },
     "execution_count": 86,
     "metadata": {},
     "output_type": "execute_result"
    }
   ],
   "source": [
    "statistics.mode(values)"
   ]
  },
  {
   "cell_type": "code",
   "execution_count": 87,
   "id": "b69f9570-6ffb-497e-b75a-813530b44277",
   "metadata": {},
   "outputs": [],
   "source": [
    "txt = \"Did you know that tacos are delicious, tacos are my favorite food\""
   ]
  },
  {
   "cell_type": "code",
   "execution_count": 88,
   "id": "d7e25295-6cce-48bf-9df0-8dbd81e49ec7",
   "metadata": {},
   "outputs": [],
   "source": [
    "x = txt.count(\"tacos\")"
   ]
  },
  {
   "cell_type": "code",
   "execution_count": 89,
   "id": "8c5f27e9-260f-4374-93c8-8671550f27ae",
   "metadata": {},
   "outputs": [
    {
     "name": "stdout",
     "output_type": "stream",
     "text": [
      "2\n"
     ]
    }
   ],
   "source": [
    "print(x)"
   ]
  },
  {
   "cell_type": "code",
   "execution_count": 90,
   "id": "51eb6499-9926-4fe6-9a6e-1374f7ea3843",
   "metadata": {},
   "outputs": [],
   "source": [
    "a = (7, 27, 35, 62, 75, 92)"
   ]
  },
  {
   "cell_type": "code",
   "execution_count": 91,
   "id": "2404ec90-a0d7-434d-86d9-1b7f470836f7",
   "metadata": {},
   "outputs": [],
   "source": [
    "x = sum(a)"
   ]
  },
  {
   "cell_type": "code",
   "execution_count": 92,
   "id": "b0e5468b-de7d-42ef-a95f-42c246c8d371",
   "metadata": {},
   "outputs": [
    {
     "name": "stdout",
     "output_type": "stream",
     "text": [
      "298\n"
     ]
    }
   ],
   "source": [
    "print(x)"
   ]
  },
  {
   "cell_type": "code",
   "execution_count": 93,
   "id": "7d44cefe-91f7-4a3d-8ec7-d6d5ddd8e7e8",
   "metadata": {},
   "outputs": [],
   "source": [
    "import statistics"
   ]
  },
  {
   "cell_type": "code",
   "execution_count": 94,
   "id": "ffbe32a2-3d07-4add-b229-4434de91901d",
   "metadata": {},
   "outputs": [],
   "source": [
    "values = [7, 27, 35, 62, 75, 92]"
   ]
  },
  {
   "cell_type": "code",
   "execution_count": 95,
   "id": "46925767-eab2-4864-8edf-21272935d4cb",
   "metadata": {},
   "outputs": [
    {
     "data": {
      "text/plain": [
       "49.666666666666664"
      ]
     },
     "execution_count": 95,
     "metadata": {},
     "output_type": "execute_result"
    }
   ],
   "source": [
    "statistics.mean(values)"
   ]
  },
  {
   "cell_type": "code",
   "execution_count": 96,
   "id": "7fae3fa6-997c-41e5-9c8b-c7c134829eb3",
   "metadata": {},
   "outputs": [
    {
     "data": {
      "text/plain": [
       "48.5"
      ]
     },
     "execution_count": 96,
     "metadata": {},
     "output_type": "execute_result"
    }
   ],
   "source": [
    "statistics.median(values)"
   ]
  },
  {
   "cell_type": "code",
   "execution_count": 97,
   "id": "6040eecb-20ec-4f6a-bdc2-12f327a33a4a",
   "metadata": {},
   "outputs": [
    {
     "data": {
      "text/plain": [
       "7"
      ]
     },
     "execution_count": 97,
     "metadata": {},
     "output_type": "execute_result"
    }
   ],
   "source": [
    "statistics.mode(values)"
   ]
  },
  {
   "cell_type": "code",
   "execution_count": null,
   "id": "25698157-e6d9-402e-b2c2-effe0f4ed106",
   "metadata": {},
   "outputs": [],
   "source": []
  }
 ],
 "metadata": {
  "kernelspec": {
   "display_name": "Python 3 (ipykernel)",
   "language": "python",
   "name": "python3"
  },
  "language_info": {
   "codemirror_mode": {
    "name": "ipython",
    "version": 3
   },
   "file_extension": ".py",
   "mimetype": "text/x-python",
   "name": "python",
   "nbconvert_exporter": "python",
   "pygments_lexer": "ipython3",
   "version": "3.9.12"
  }
 },
 "nbformat": 4,
 "nbformat_minor": 5
}
